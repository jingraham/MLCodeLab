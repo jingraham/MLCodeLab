{
  "nbformat": 4,
  "nbformat_minor": 0,
  "metadata": {
    "colab": {
      "name": "mnist_tutorial.ipynb",
      "version": "0.3.2",
      "provenance": [],
      "collapsed_sections": [],
      "include_colab_link": true
    },
    "kernelspec": {
      "display_name": "Python 3",
      "language": "python",
      "name": "python3"
    },
    "accelerator": "GPU"
  },
  "cells": [
    {
      "cell_type": "markdown",
      "metadata": {
        "id": "view-in-github",
        "colab_type": "text"
      },
      "source": [
        "[View in Colaboratory](https://colab.research.google.com/github/yala/MLCodeLab/blob/master/mnist_tutorial.ipynb)"
      ]
    },
    {
      "metadata": {
        "id": "GA8LLAO9dchw",
        "colab_type": "text"
      },
      "cell_type": "markdown",
      "source": [
        "# Introduction to Deep Learning Packages\n",
        "In this tutorial, we'll take you through developing models to classify images in PyTorch from start to finish. We'll go through preprocessing, building neural networks, and experimentation.\n",
        "\n",
        "Let's get started!"
      ]
    },
    {
      "metadata": {
        "id": "eT_jLzv8do9z",
        "colab_type": "code",
        "colab": {
          "base_uri": "https://localhost:8080/",
          "height": 52
        },
        "outputId": "c3bae2e0-4abf-49ba-a96e-6abf57fc64aa"
      },
      "cell_type": "code",
      "source": [
        "# http://pytorch.org/\n",
        "from os import path\n",
        "from wheel.pep425tags import get_abbr_impl, get_impl_ver, get_abi_tag\n",
        "platform = '{}{}-{}'.format(get_abbr_impl(), get_impl_ver(), get_abi_tag())\n",
        "\n",
        "accelerator = 'cu80' if path.exists('/opt/bin/nvidia-smi') else 'cpu'\n",
        "\n",
        "!pip install -q http://download.pytorch.org/whl/{accelerator}/torch-0.4.0-{platform}-linux_x86_64.whl torchvision\n",
        "import torch\n",
        "print(torch.__version__)\n",
        "print(torch.cuda.is_available())"
      ],
      "execution_count": 1,
      "outputs": [
        {
          "output_type": "stream",
          "text": [
            "0.4.0\n",
            "True\n"
          ],
          "name": "stdout"
        }
      ]
    },
    {
      "metadata": {
        "id": "mcLJrU16dch0",
        "colab_type": "code",
        "colab": {}
      },
      "cell_type": "code",
      "source": [
        "import argparse\n",
        "import torch\n",
        "import torch.nn as nn\n",
        "import torch.nn.functional as F\n",
        "import torch.optim as optim\n",
        "from torchvision import datasets, transforms\n",
        "from tqdm import tqdm\n",
        "import matplotlib.pyplot as plt\n",
        "import numpy as np\n"
      ],
      "execution_count": 0,
      "outputs": []
    },
    {
      "metadata": {
        "id": "DMJfz2f-JC9E",
        "colab_type": "code",
        "colab": {}
      },
      "cell_type": "code",
      "source": [
        "#@title Helper Function to display Images { display-mode: \"form\" }\n",
        "def plot_images(images, cls_true):\n",
        "    assert len(images) == len(cls_true) == 9\n",
        "    \n",
        "    # Create figure with 3x3 sub-plots.\n",
        "    fig, axes = plt.subplots(3, 3, figsize=(4,4))\n",
        "    fig.subplots_adjust(hspace=0.3, wspace=0.3)\n",
        "\n",
        "    for i, ax in enumerate(axes.flat):\n",
        "        # Plot image.\n",
        "        ax.imshow(np.array(images[i], dtype='float').reshape((28,28))*255, cmap='binary')\n",
        "\n",
        "        # Show true and predicted classes.\n",
        "\n",
        "        xlabel = \"True: {0}\".format(cls_true[i])\n",
        "\n",
        "        # Show the classes as the label on the x-axis.\n",
        "        ax.set_xlabel(xlabel)\n",
        "        \n",
        "        # Remove ticks from the plot.\n",
        "        ax.set_xticks([])\n",
        "        ax.set_yticks([])\n",
        "    \n",
        "    # Ensure the plot is shown correctly with multiple plots\n",
        "    # in a single Notebook cell.\n",
        "    plt.show()"
      ],
      "execution_count": 0,
      "outputs": []
    },
    {
      "metadata": {
        "id": "YaXgpNjCdch-",
        "colab_type": "text"
      },
      "cell_type": "markdown",
      "source": [
        "## What is PyTorch\n",
        "It's a python based deep learning library. It's very popular amongst researchers because of it's speed and flexibility. \n",
        "\n",
        "At the base of pytorch is the idea of a `Tensor`.\n",
        "A `Tensor` is just an `n-dimensional` array, like a numpy `ndarray`.\n",
        "\n",
        "For example,\n",
        "Let's make a random `3x3` tensor.\n",
        "We can inspect tensors by printing them, and get their size with `.size()` "
      ]
    },
    {
      "metadata": {
        "id": "4smEQXOddciA",
        "colab_type": "code",
        "colab": {
          "base_uri": "https://localhost:8080/",
          "height": 86
        },
        "outputId": "e1479980-c77f-4106-aea6-c25411c16ec9"
      },
      "cell_type": "code",
      "source": [
        "a = torch.rand(3,3)\n",
        "print(a)\n",
        "print(a.size())"
      ],
      "execution_count": 4,
      "outputs": [
        {
          "output_type": "stream",
          "text": [
            "tensor([[ 0.5238,  0.0974,  0.2254],\n",
            "        [ 0.1550,  0.5569,  0.0857],\n",
            "        [ 0.5265,  0.0187,  0.5555]])\n",
            "torch.Size([3, 3])\n"
          ],
          "name": "stdout"
        }
      ]
    },
    {
      "metadata": {
        "id": "Vzw6TNDCdciL",
        "colab_type": "text"
      },
      "cell_type": "markdown",
      "source": [
        "We can also take an array, and convert it to a tensor.\n"
      ]
    },
    {
      "metadata": {
        "id": "9Yp_9BI8dciM",
        "colab_type": "code",
        "colab": {
          "base_uri": "https://localhost:8080/",
          "height": 69
        },
        "outputId": "681c7b08-4f44-4fee-8078-a9103360ce68"
      },
      "cell_type": "code",
      "source": [
        "b = torch.Tensor([[1,2,3],[4,5,6]])\n",
        "print(b)\n",
        "print(b.size())"
      ],
      "execution_count": 5,
      "outputs": [
        {
          "output_type": "stream",
          "text": [
            "tensor([[ 1.,  2.,  3.],\n",
            "        [ 4.,  5.,  6.]])\n",
            "torch.Size([2, 3])\n"
          ],
          "name": "stdout"
        }
      ]
    },
    {
      "metadata": {
        "id": "j6QOEC9bdciT",
        "colab_type": "text"
      },
      "cell_type": "markdown",
      "source": [
        "### Operations on Tensors\n",
        "Any operation between tensors produces new tensors.\n",
        "You can use regular python syntax to add, multiply them. PyTorch also nice functions for matrix multipication, and reshaping tensors.\n"
      ]
    },
    {
      "metadata": {
        "id": "z64BAtt1dciV",
        "colab_type": "code",
        "colab": {
          "base_uri": "https://localhost:8080/",
          "height": 208
        },
        "outputId": "2ba719b6-91cb-4f31-e7d3-f58157e4372b"
      },
      "cell_type": "code",
      "source": [
        "a = a + 4\n",
        "print(a)\n",
        "d = a * 2\n",
        "print(d)\n",
        "e = a - d\n",
        "print(e)\n",
        "\n",
        "print(a.size(), b.size())\n",
        "# Wont work because shapes number of columns in a \n",
        "# doesn't match number of rows in b\n",
        "'c = torch.matmul(a, b)'\n",
        "# This will work\n",
        "c = torch.matmul(b, a)\n",
        "print(c.size())\n"
      ],
      "execution_count": 6,
      "outputs": [
        {
          "output_type": "stream",
          "text": [
            "tensor([[ 4.5238,  4.0974,  4.2254],\n",
            "        [ 4.1550,  4.5569,  4.0857],\n",
            "        [ 4.5265,  4.0187,  4.5555]])\n",
            "tensor([[ 9.0475,  8.1948,  8.4508],\n",
            "        [ 8.3099,  9.1138,  8.1714],\n",
            "        [ 9.0530,  8.0374,  9.1110]])\n",
            "tensor([[-4.5238, -4.0974, -4.2254],\n",
            "        [-4.1550, -4.5569, -4.0857],\n",
            "        [-4.5265, -4.0187, -4.5555]])\n",
            "torch.Size([3, 3]) torch.Size([2, 3])\n",
            "torch.Size([2, 3])\n"
          ],
          "name": "stdout"
        }
      ]
    },
    {
      "metadata": {
        "id": "9Lv_3SJ3dcic",
        "colab_type": "text"
      },
      "cell_type": "markdown",
      "source": [
        "If you're running into a bug, it's often helpful to step through and check your dimensions.\n",
        "\n",
        "### The magic: Autograd\n",
        "The power behind PyTorch comes from its automatic differentiation engine, Autograd. To turn it on, construct your tensors with `requires_grad = True`.\n",
        "\n",
        "Every computation you make, i.e `c=a+b` will create a computation graph with node `c` being linked to `a` and `b` via a `+` operator. \n",
        "\n",
        "<img src=\"https://raw.githubusercontent.com/yala/MLCodeLab/master/lab2/abc.png\">\n",
        "\n",
        "If you call `.backward()` on your final node, autograd will work out all the gradients for you and store the values in `a.grad` and `b.grad`.\n",
        "\n",
        "Let's look at an example.\n",
        "\n",
        "Consider the function\n",
        "`y = a*(x^2) + b`, where `a = b = 1`. This is a simple parabola. \n",
        "<img src=\"https://raw.githubusercontent.com/yala/MLCodeLab/master/lab2/parabola.png\">\n",
        "\n",
        "The compute graph for this would be:\n",
        "<img src=\"https://raw.githubusercontent.com/yala/MLCodeLab/master/lab2/parab_graph.png\">\n",
        "\n",
        "From basic calculas, we know that the derivative of `dy/dx` is\n",
        "`dy/dx = 2a x`. So the derivative at `x = 1` is `2`. \n",
        "This wasn't very hard, but let's see how autograd can do this automatically."
      ]
    },
    {
      "metadata": {
        "id": "QcFo6aRodcif",
        "colab_type": "code",
        "colab": {
          "base_uri": "https://localhost:8080/",
          "height": 52
        },
        "outputId": "996edb05-2558-49b5-b644-6f1246c80818"
      },
      "cell_type": "code",
      "source": [
        "a = torch.ones(1, requires_grad=False)\n",
        "b = torch.ones(1, requires_grad=False)\n",
        "x = torch.ones(1, requires_grad=True)\n",
        "y = a*(x*x)  + b\n",
        "print(y)\n",
        "y.backward()\n",
        "print(\"x.grad={}\".format(x.grad))\n"
      ],
      "execution_count": 7,
      "outputs": [
        {
          "output_type": "stream",
          "text": [
            "tensor([ 2.])\n",
            "x.grad=tensor([ 2.])\n"
          ],
          "name": "stdout"
        }
      ]
    },
    {
      "metadata": {
        "id": "vjs2yps_dcip",
        "colab_type": "text"
      },
      "cell_type": "markdown",
      "source": [
        "### Why autograd is exciting\n",
        "Now, this may have seemed trivial and contrived, but this flexible automatic differentiation process really shines when our computation graph is large and complex, i.e when it's a neural network.\n",
        "\n",
        "If we place our whole model into our computation graph, and the loss calculation, the a call to `backward`, will compute all the gradients, and it becomes very easy to train neural networks. \n",
        "\n",
        "\n"
      ]
    },
    {
      "metadata": {
        "id": "Z11d818rdcir",
        "colab_type": "text"
      },
      "cell_type": "markdown",
      "source": [
        "# The Task: MNIST, Digit Classification\n",
        "<img src=\"https://raw.githubusercontent.com/yala/MLCodeLab/master/lab2/mnist.png\">\n",
        "\n",
        "In this lab, we'll build a neural network to classify hand-written digits.\n",
        "\n",
        "\n",
        "\n",
        "## Step 1: Loading Data and Preprocessing\n",
        "Let's start by loading the data.\n",
        "We're going to normalize our images to have 0 mean, and unit variance. We'll do this using some [torchvision](https://pytorch.org/docs/stable/torchvision/index.html) transforms. This generally helps stablize learning, and is common practice. "
      ]
    },
    {
      "metadata": {
        "id": "moG_DE1ldcis",
        "colab_type": "code",
        "colab": {}
      },
      "cell_type": "code",
      "source": [
        "# Img mean value of .13, and stdv of .31 were computed across entire train set\n",
        "# in prior work\n",
        "normalize_image = transforms.Compose([\n",
        "                           transforms.ToTensor(),\n",
        "                           transforms.Normalize((0.1307,), (0.3081,))\n",
        "                ])\n",
        "\n",
        "# Dataset is loaded fro torchvision\n",
        "all_train = datasets.MNIST('data', train=True, download=True, transform=normalize_image)\n",
        "\n",
        "num_train = int(len(all_train)*.8)\n",
        "train = [all_train[i] for i in range(num_train)]\n",
        "dev = [all_train[i] for i in range(num_train,len(all_train))]\n",
        "test = datasets.MNIST('data', train=False, download=True, \n",
        "                      transform=normalize_image)\n",
        "                           \n"
      ],
      "execution_count": 0,
      "outputs": []
    },
    {
      "metadata": {
        "id": "55n2msG5dciy",
        "colab_type": "code",
        "colab": {
          "base_uri": "https://localhost:8080/",
          "height": 262
        },
        "outputId": "546c0e68-2e68-406d-abca-62426f4f9032"
      },
      "cell_type": "code",
      "source": [
        "all_train = datasets.MNIST('data', train=True, download=True)\n",
        "# images = [tr[0] for tr in all_train[:9]]\n",
        "num_examples = 9 \n",
        "images, labels = [], []\n",
        "for i in range(num_examples):\n",
        "  images.append(all_train[i][0])\n",
        "  labels.append(all_train[i][1].item())\n",
        "    \n",
        "plot_images(images, labels)"
      ],
      "execution_count": 9,
      "outputs": [
        {
          "output_type": "display_data",
          "data": {
            "image/png": "[encoded data removed]",
            "text/plain": [
              "<matplotlib.figure.Figure at 0x7ffb3bd6dac8>"
            ]
          },
          "metadata": {
            "tags": []
          }
        }
      ]
    },
    {
      "metadata": {
        "id": "XHq9MwYVdci5",
        "colab_type": "code",
        "colab": {
          "base_uri": "https://localhost:8080/",
          "height": 34
        },
        "outputId": "b574b487-c090-4a8b-9d68-2aa05ad8ee07"
      },
      "cell_type": "code",
      "source": [
        "train[0][0].size()"
      ],
      "execution_count": 10,
      "outputs": [
        {
          "output_type": "execute_result",
          "data": {
            "text/plain": [
              "torch.Size([1, 28, 28])"
            ]
          },
          "metadata": {
            "tags": []
          },
          "execution_count": 10
        }
      ]
    },
    {
      "metadata": {
        "id": "s2jGlFlidci-",
        "colab_type": "text"
      },
      "cell_type": "markdown",
      "source": [
        "## Step 2: Building a model\n",
        "\n",
        "All pytorch models should be implemented as instances of `nn.Module`. \n",
        "\n",
        "To build a model you need to:\n",
        "a) define what parameters it'll need in it's `__init__` function\n",
        "b) define the model's computation, using those parameters, in a forward function.\n",
        "\n",
        "\n",
        "To keep things simple, lets define a simple linear classifer, like logistic regression. We'll experiment with more complex models soon."
      ]
    },
    {
      "metadata": {
        "id": "c0NnnFWgdci-",
        "colab_type": "code",
        "colab": {}
      },
      "cell_type": "code",
      "source": [
        "class Model(nn.Module):\n",
        "    def __init__(self):\n",
        "        super(Model, self).__init__()\n",
        "        # Learn weights for each pixel and perform linear regression\n",
        "        self.fc = nn.Linear(28*28, 10)\n",
        "\n",
        "    def forward(self, x):\n",
        "        batch_size, num_channels, height, width = x.size()\n",
        "        # Flatten image\n",
        "        x = x.view(batch_size, -1)\n",
        "        # Put it through linear classifier\n",
        "        return self.fc(x)\n"
      ],
      "execution_count": 0,
      "outputs": []
    },
    {
      "metadata": {
        "id": "M9hvStGzdcjC",
        "colab_type": "text"
      },
      "cell_type": "markdown",
      "source": [
        "## Step 3. Defining our training procedure\n",
        "\n",
        "To train our model, let's introduce a couple new PyTorch ideas.\n",
        "\n",
        "A [DataLoader](https://pytorch.org/docs/stable/data.html#torch.utils.data.DataLoader) is an iterator that goes over our entire dataset and selects batches. \n",
        "We'll be using this to iterate through our train/dev/test sets.\n",
        "\n",
        "Let's intialize these now. \n",
        "\n",
        "An [Optimizer](https://pytorch.org/docs/stable/optim.html) defines an update rule. In class, we've discussed vanilla SGD, which is one method to compute the next weight, given the current weight and gradient. There are plently of other optimizers you can try from the pytorch library. \n"
      ]
    },
    {
      "metadata": {
        "id": "n3Ht1mhhdcjE",
        "colab_type": "code",
        "colab": {}
      },
      "cell_type": "code",
      "source": [
        "# Training settings\n",
        "batch_size = 64\n",
        "epochs = 10\n",
        "lr = .01\n",
        "momentum = 0.5\n",
        "\n",
        "\n",
        "train_loader = torch.utils.data.DataLoader(train, batch_size=batch_size, shuffle=True)\n",
        "dev_loader = torch.utils.data.DataLoader(dev, batch_size=batch_size, shuffle=True)\n",
        "test_loader = torch.utils.data.DataLoader(test, batch_size=batch_size, shuffle=True)\n",
        "\n",
        "\n",
        "model = Model()\n",
        "optimizer = optim.SGD(model.parameters(), lr=lr, momentum=momentum)\n"
      ],
      "execution_count": 0,
      "outputs": []
    },
    {
      "metadata": {
        "id": "jAl05-rTdcjH",
        "colab_type": "text"
      },
      "cell_type": "markdown",
      "source": [
        "To train our model:\n",
        "\n",
        "1) we'll randomly sample batches from our train loader\n",
        "\n",
        "2) compute our loss (using standard `cross_entropy`)\n",
        "\n",
        "3) compute our gradients (by calling `backward()` on our loss)\n",
        "\n",
        "4) update our neural network with an `optimizer.step()`, and go back to 1)\n",
        "\n",
        "I've added some extra stuff here to log our accuracy and avg loss for the epoch.\n"
      ]
    },
    {
      "metadata": {
        "id": "wxIj0eWsdcjJ",
        "colab_type": "code",
        "colab": {}
      },
      "cell_type": "code",
      "source": [
        "def train_epoch( model, train_loader, optimizer, epoch):\n",
        "    model.train() # Set the nn.Module to train mode. \n",
        "    total_loss = 0\n",
        "    correct = 0\n",
        "    num_samples = len(train_loader.dataset)\n",
        "    for batch_idx, (x, target) in enumerate(train_loader): #1) get batch\n",
        "        # Reset gradient data to 0\n",
        "        optimizer.zero_grad()\n",
        "        # Get prediction for batch\n",
        "        output = model(x)\n",
        "        # 2) Compute loss\n",
        "        loss = F.cross_entropy(output, target)\n",
        "        #3) Do backprop\n",
        "        loss.backward()\n",
        "        #4) Update model\n",
        "        optimizer.step()\n",
        "        \n",
        "        ## Do book-keeping to track accuracy and avg loss\n",
        "        pred = output.max(1, keepdim=True)[1] # get the index of the max log-probability\n",
        "        correct += pred.eq(target.view_as(pred)).sum().item()\n",
        "        total_loss += loss.detach() # Don't keep computation graph \n",
        "\n",
        "    print('Train Epoch: {} \\tLoss: {:.4f}, Accuracy: {}/{} ({:.0f}%)'.format(\n",
        "            epoch, total_loss / num_samples, \n",
        "            correct, \n",
        "            num_samples,\n",
        "            100. * correct / num_samples))\n"
      ],
      "execution_count": 0,
      "outputs": []
    },
    {
      "metadata": {
        "id": "xGZnlI58dcjN",
        "colab_type": "text"
      },
      "cell_type": "markdown",
      "source": [
        "## Step 3.5 Define our evaluation loop\n",
        "Similar to above, we'll also loop through our dev or test set, and compute our loss and accuracy. \n",
        "This lets us see how well our model is generalizing. "
      ]
    },
    {
      "metadata": {
        "id": "GPzqSuY3dcjO",
        "colab_type": "code",
        "colab": {}
      },
      "cell_type": "code",
      "source": [
        "def eval_epoch(model, test_loader, name):\n",
        "    model.eval()\n",
        "    test_loss = 0\n",
        "    correct = 0\n",
        "    for data, target in test_loader:\n",
        "        output = model(data)\n",
        "        test_loss += F.cross_entropy(output, target).item() # sum up batch loss\n",
        "        pred = output.max(1, keepdim=True)[1] # get the index of the max log-probability\n",
        "        correct += pred.eq(target.view_as(pred)).sum().item()\n",
        "\n",
        "    test_loss /= len(test_loader.dataset)\n",
        "    print('\\n{} set: Average loss: {:.4f}, Accuracy: {}/{} ({:.0f}%)\\n'.format(\n",
        "        name,\n",
        "        test_loss, \n",
        "        correct, \n",
        "        len(test_loader.dataset),\n",
        "        100. * correct / len(test_loader.dataset)))\n"
      ],
      "execution_count": 0,
      "outputs": []
    },
    {
      "metadata": {
        "id": "Pp9H5tWEdcjR",
        "colab_type": "text"
      },
      "cell_type": "markdown",
      "source": [
        "## Step 4: Training the model"
      ]
    },
    {
      "metadata": {
        "id": "vVpU_N0idcjS",
        "colab_type": "code",
        "colab": {
          "base_uri": "https://localhost:8080/",
          "height": 885
        },
        "outputId": "ec0ce386-6fc9-4262-ae51-0bfba030e55f"
      },
      "cell_type": "code",
      "source": [
        "\n",
        "for epoch in range(1, epochs + 1):\n",
        "    train_epoch(model, train_loader, optimizer, epoch)\n",
        "    eval_epoch(model,  dev_loader, \"Dev\")\n",
        "    print(\"---\")"
      ],
      "execution_count": 15,
      "outputs": [
        {
          "output_type": "stream",
          "text": [
            "Train Epoch: 1 \tLoss: 0.0068, Accuracy: 42180/48000 (88%)\n",
            "\n",
            "Dev set: Average loss: 0.0049, Accuracy: 10943/12000 (91%)\n",
            "\n",
            "---\n",
            "Train Epoch: 2 \tLoss: 0.0050, Accuracy: 43579/48000 (91%)\n",
            "\n",
            "Dev set: Average loss: 0.0046, Accuracy: 10999/12000 (92%)\n",
            "\n",
            "---\n",
            "Train Epoch: 3 \tLoss: 0.0047, Accuracy: 43823/48000 (91%)\n",
            "\n",
            "Dev set: Average loss: 0.0045, Accuracy: 11040/12000 (92%)\n",
            "\n",
            "---\n",
            "Train Epoch: 4 \tLoss: 0.0046, Accuracy: 43994/48000 (92%)\n",
            "\n",
            "Dev set: Average loss: 0.0044, Accuracy: 11037/12000 (92%)\n",
            "\n",
            "---\n",
            "Train Epoch: 5 \tLoss: 0.0045, Accuracy: 44083/48000 (92%)\n",
            "\n",
            "Dev set: Average loss: 0.0044, Accuracy: 11070/12000 (92%)\n",
            "\n",
            "---\n",
            "Train Epoch: 6 \tLoss: 0.0044, Accuracy: 44220/48000 (92%)\n",
            "\n",
            "Dev set: Average loss: 0.0043, Accuracy: 11090/12000 (92%)\n",
            "\n",
            "---\n",
            "Train Epoch: 7 \tLoss: 0.0044, Accuracy: 44188/48000 (92%)\n",
            "\n",
            "Dev set: Average loss: 0.0043, Accuracy: 11082/12000 (92%)\n",
            "\n",
            "---\n",
            "Train Epoch: 8 \tLoss: 0.0043, Accuracy: 44257/48000 (92%)\n",
            "\n",
            "Dev set: Average loss: 0.0043, Accuracy: 11095/12000 (92%)\n",
            "\n",
            "---\n",
            "Train Epoch: 9 \tLoss: 0.0043, Accuracy: 44301/48000 (92%)\n",
            "\n",
            "Dev set: Average loss: 0.0043, Accuracy: 11086/12000 (92%)\n",
            "\n",
            "---\n",
            "Train Epoch: 10 \tLoss: 0.0042, Accuracy: 44351/48000 (92%)\n",
            "\n",
            "Dev set: Average loss: 0.0043, Accuracy: 11112/12000 (93%)\n",
            "\n",
            "---\n"
          ],
          "name": "stdout"
        }
      ]
    },
    {
      "metadata": {
        "id": "WwBmuGetdcjY",
        "colab_type": "text"
      },
      "cell_type": "markdown",
      "source": [
        "# Step 5. Experiment with MLP\n",
        "This model gets a dev accuracy of 93%, which isn't too bad. However, the power of neural networks comes from composing layers with nonlinearities.\n",
        "\n",
        "Let's try a more complex model."
      ]
    },
    {
      "metadata": {
        "id": "e4x3E0AcdcjZ",
        "colab_type": "code",
        "colab": {
          "base_uri": "https://localhost:8080/",
          "height": 885
        },
        "outputId": "3373ffdb-0400-44e8-d43f-f47f28dd3e8f"
      },
      "cell_type": "code",
      "source": [
        "class Model(nn.Module):\n",
        "    def __init__(self):\n",
        "        super(Model, self).__init__()\n",
        "        self.fc1 = nn.Linear(28*28, 200)\n",
        "        self.fc2 = nn.Linear(200, 200)\n",
        "        self.fc3 = nn.Linear(200, 10)\n",
        "        \n",
        "\n",
        "    def forward(self, x):\n",
        "        batch_size, num_channels, height, width = x.size()\n",
        "        x = x.view(batch_size, -1)\n",
        "        hidden = F.relu(self.fc1(x))\n",
        "        hidden = F.relu(self.fc2(hidden))\n",
        "        logit = self.fc3(hidden)\n",
        "        return logit\n",
        "    \n",
        "model = Model()\n",
        "optimizer = optim.SGD(model.parameters(), lr=lr, momentum=momentum)\n",
        "\n",
        "for epoch in range(1, epochs + 1):\n",
        "    train_epoch(model, train_loader, optimizer, epoch)\n",
        "    eval_epoch(model,  dev_loader, \"Dev\")\n",
        "    print(\"---\")"
      ],
      "execution_count": 16,
      "outputs": [
        {
          "output_type": "stream",
          "text": [
            "Train Epoch: 1 \tLoss: 0.0098, Accuracy: 40271/48000 (84%)\n",
            "\n",
            "Dev set: Average loss: 0.0045, Accuracy: 10971/12000 (91%)\n",
            "\n",
            "---\n",
            "Train Epoch: 2 \tLoss: 0.0040, Accuracy: 44405/48000 (93%)\n",
            "\n",
            "Dev set: Average loss: 0.0033, Accuracy: 11265/12000 (94%)\n",
            "\n",
            "---\n",
            "Train Epoch: 3 \tLoss: 0.0031, Accuracy: 45220/48000 (94%)\n",
            "\n",
            "Dev set: Average loss: 0.0027, Accuracy: 11400/12000 (95%)\n",
            "\n",
            "---\n",
            "Train Epoch: 4 \tLoss: 0.0025, Accuracy: 45758/48000 (95%)\n",
            "\n",
            "Dev set: Average loss: 0.0023, Accuracy: 11499/12000 (96%)\n",
            "\n",
            "---\n",
            "Train Epoch: 5 \tLoss: 0.0021, Accuracy: 46132/48000 (96%)\n",
            "\n",
            "Dev set: Average loss: 0.0020, Accuracy: 11552/12000 (96%)\n",
            "\n",
            "---\n",
            "Train Epoch: 6 \tLoss: 0.0018, Accuracy: 46397/48000 (97%)\n",
            "\n",
            "Dev set: Average loss: 0.0019, Accuracy: 11579/12000 (96%)\n",
            "\n",
            "---\n",
            "Train Epoch: 7 \tLoss: 0.0015, Accuracy: 46637/48000 (97%)\n",
            "\n",
            "Dev set: Average loss: 0.0019, Accuracy: 11577/12000 (96%)\n",
            "\n",
            "---\n",
            "Train Epoch: 8 \tLoss: 0.0014, Accuracy: 46818/48000 (98%)\n",
            "\n",
            "Dev set: Average loss: 0.0017, Accuracy: 11611/12000 (97%)\n",
            "\n",
            "---\n",
            "Train Epoch: 9 \tLoss: 0.0012, Accuracy: 46949/48000 (98%)\n",
            "\n",
            "Dev set: Average loss: 0.0016, Accuracy: 11655/12000 (97%)\n",
            "\n",
            "---\n",
            "Train Epoch: 10 \tLoss: 0.0011, Accuracy: 47062/48000 (98%)\n",
            "\n",
            "Dev set: Average loss: 0.0015, Accuracy: 11667/12000 (97%)\n",
            "\n",
            "---\n"
          ],
          "name": "stdout"
        }
      ]
    },
    {
      "metadata": {
        "id": "yZUkHfjwdcjg",
        "colab_type": "code",
        "colab": {}
      },
      "cell_type": "code",
      "source": [
        ""
      ],
      "execution_count": 0,
      "outputs": []
    },
    {
      "metadata": {
        "id": "mtu5dCuZdcjk",
        "colab_type": "text"
      },
      "cell_type": "markdown",
      "source": [
        "## Step 6. Experiment with CNN\n",
        "A 3 layer MLP gets a dev accuracy of 97%, a strong imporvement over the simple linear model.\n",
        "Now let's experiment with a covolutional neural network.\n"
      ]
    },
    {
      "metadata": {
        "id": "8846L926dcjm",
        "colab_type": "code",
        "colab": {
          "base_uri": "https://localhost:8080/",
          "height": 885
        },
        "outputId": "18e8230f-92a0-44ea-be84-9d970ed82cc0"
      },
      "cell_type": "code",
      "source": [
        "class Model(nn.Module):\n",
        "    def __init__(self):\n",
        "        super(Model, self).__init__()\n",
        "        self.hidden_dim = 32\n",
        "        self.conv1 = nn.Conv2d(1, self.hidden_dim // 2, kernel_size=10)\n",
        "        self.conv2 = nn.Conv2d(self.hidden_dim // 2, self.hidden_dim, kernel_size=10)\n",
        "        self.fc = nn.Linear(self.hidden_dim, 10)\n",
        "        \n",
        "    def forward(self, x):\n",
        "        batch_size, num_channels, height, width = x.size()\n",
        "        \n",
        "        hidden = F.relu(self.conv1(x))\n",
        "        hidden = F.relu(self.conv2(hidden))\n",
        "        hidden = hidden.view((batch_size, self.hidden_dim, -1))\n",
        "        hidden,_ = torch.max(hidden, dim=-1)\n",
        "        logit = self.fc(hidden)\n",
        "        return logit\n",
        "    \n",
        "model = Model()\n",
        "optimizer = optim.SGD(model.parameters(), lr=lr, momentum=momentum)\n",
        "\n",
        "for epoch in range(1, epochs + 1):\n",
        "    train_epoch(model, train_loader, optimizer, epoch)\n",
        "    eval_epoch(model,  dev_loader, \"Dev\")\n",
        "    print(\"---\")"
      ],
      "execution_count": 17,
      "outputs": [
        {
          "output_type": "stream",
          "text": [
            "Train Epoch: 1 \tLoss: 0.0054, Accuracy: 43366/48000 (90%)\n",
            "\n",
            "Dev set: Average loss: 0.0017, Accuracy: 11625/12000 (97%)\n",
            "\n",
            "---\n",
            "Train Epoch: 2 \tLoss: 0.0017, Accuracy: 46455/48000 (97%)\n",
            "\n",
            "Dev set: Average loss: 0.0016, Accuracy: 11650/12000 (97%)\n",
            "\n",
            "---\n",
            "Train Epoch: 3 \tLoss: 0.0013, Accuracy: 46828/48000 (98%)\n",
            "\n",
            "Dev set: Average loss: 0.0011, Accuracy: 11762/12000 (98%)\n",
            "\n",
            "---\n",
            "Train Epoch: 4 \tLoss: 0.0010, Accuracy: 47062/48000 (98%)\n",
            "\n",
            "Dev set: Average loss: 0.0010, Accuracy: 11772/12000 (98%)\n",
            "\n",
            "---\n",
            "Train Epoch: 5 \tLoss: 0.0008, Accuracy: 47223/48000 (98%)\n",
            "\n",
            "Dev set: Average loss: 0.0008, Accuracy: 11812/12000 (98%)\n",
            "\n",
            "---\n",
            "Train Epoch: 6 \tLoss: 0.0007, Accuracy: 47328/48000 (99%)\n",
            "\n",
            "Dev set: Average loss: 0.0008, Accuracy: 11822/12000 (99%)\n",
            "\n",
            "---\n",
            "Train Epoch: 7 \tLoss: 0.0006, Accuracy: 47394/48000 (99%)\n",
            "\n",
            "Dev set: Average loss: 0.0008, Accuracy: 11817/12000 (98%)\n",
            "\n",
            "---\n",
            "Train Epoch: 8 \tLoss: 0.0006, Accuracy: 47465/48000 (99%)\n",
            "\n",
            "Dev set: Average loss: 0.0008, Accuracy: 11806/12000 (98%)\n",
            "\n",
            "---\n",
            "Train Epoch: 9 \tLoss: 0.0005, Accuracy: 47560/48000 (99%)\n",
            "\n",
            "Dev set: Average loss: 0.0008, Accuracy: 11835/12000 (99%)\n",
            "\n",
            "---\n",
            "Train Epoch: 10 \tLoss: 0.0004, Accuracy: 47599/48000 (99%)\n",
            "\n",
            "Dev set: Average loss: 0.0007, Accuracy: 11830/12000 (99%)\n",
            "\n",
            "---\n"
          ],
          "name": "stdout"
        }
      ]
    },
    {
      "metadata": {
        "id": "vrjftzTMdcjr",
        "colab_type": "text"
      },
      "cell_type": "markdown",
      "source": [
        "## Step 7. Explore further.\n",
        "You can try different model architectures, different optimizers, learning rates and regularization strategies. Neural networks are incredibly flexibile, and so the space to do explore is enourmous.  Once you're done exploring, take your best model (i.e achieves best results on dev set) and run it on test!"
      ]
    },
    {
      "metadata": {
        "id": "dNWqKY72dcjs",
        "colab_type": "code",
        "colab": {
          "base_uri": "https://localhost:8080/",
          "height": 69
        },
        "outputId": "ac7dbd3b-ecec-49d5-ace0-859dc9e1989a"
      },
      "cell_type": "code",
      "source": [
        "eval_epoch(model,  test_loader, \"Test\")"
      ],
      "execution_count": 18,
      "outputs": [
        {
          "output_type": "stream",
          "text": [
            "\n",
            "Test set: Average loss: 0.0007, Accuracy: 9862/10000 (99%)\n",
            "\n"
          ],
          "name": "stdout"
        }
      ]
    },
    {
      "metadata": {
        "id": "U2l7I5Fddcjy",
        "colab_type": "text"
      },
      "cell_type": "markdown",
      "source": [
        "## Step 8. Now try it on your own on CIFAR\n"
      ]
    }
  ]
}